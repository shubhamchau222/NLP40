{
 "cells": [
  {
   "cell_type": "code",
   "execution_count": 1,
   "metadata": {},
   "outputs": [
    {
     "name": "stdout",
     "output_type": "stream",
     "text": [
      "Hello\n"
     ]
    }
   ],
   "source": [
    "print(\"Hello\")"
   ]
  },
  {
   "cell_type": "code",
   "execution_count": 2,
   "metadata": {},
   "outputs": [],
   "source": [
    "import torch"
   ]
  },
  {
   "cell_type": "code",
   "execution_count": null,
   "metadata": {},
   "outputs": [],
   "source": []
  },
  {
   "cell_type": "code",
   "execution_count": 4,
   "metadata": {},
   "outputs": [
    {
     "name": "stdout",
     "output_type": "stream",
     "text": [
      "tensor([0., 1.]) torch.Size([2])\n",
      "\n",
      " With Unsqeeze: to add batch parameter\n",
      "tensor([[0.],\n",
      "        [1.]]) \n",
      " torch.Size([2, 1])\n"
     ]
    }
   ],
   "source": [
    "setence = \"Hello python\"\n",
    "print(torch.arange(0, 2 , dtype=torch.float), torch.arange(0, 2 , dtype=torch.float).shape)\n",
    "print(\"\\n With Unsqeeze: to add batch parameter\")\n",
    "print(torch.arange(0, 2 , dtype=torch.float).unsqueeze(1), \"\\n\", torch.arange(0, 2 , dtype=torch.float).unsqueeze(1).shape)\n"
   ]
  },
  {
   "cell_type": "code",
   "execution_count": 5,
   "metadata": {},
   "outputs": [
    {
     "name": "stdout",
     "output_type": "stream",
     "text": [
      "tensor([[0., 1.]]) \n",
      " torch.Size([1, 2])\n"
     ]
    }
   ],
   "source": [
    "print(torch.arange(0, 2 , dtype=torch.float).unsqueeze(0), \"\\n\", torch.arange(0, 2 , dtype=torch.float).unsqueeze(0).shape)"
   ]
  },
  {
   "cell_type": "code",
   "execution_count": 7,
   "metadata": {},
   "outputs": [
    {
     "data": {
      "text/plain": [
       "tensor([[0., 0., 0., 0.],\n",
       "        [0., 0., 0., 0.],\n",
       "        [0., 0., 0., 0.],\n",
       "        [0., 0., 0., 0.],\n",
       "        [0., 0., 0., 0.],\n",
       "        [0., 0., 0., 0.],\n",
       "        [0., 0., 0., 0.],\n",
       "        [0., 0., 0., 0.],\n",
       "        [0., 0., 0., 0.],\n",
       "        [0., 0., 0., 0.]])"
      ]
     },
     "execution_count": 7,
     "metadata": {},
     "output_type": "execute_result"
    }
   ],
   "source": [
    "pe= torch.zeros(10, 4)\n",
    "pe"
   ]
  },
  {
   "cell_type": "code",
   "execution_count": 8,
   "metadata": {},
   "outputs": [],
   "source": [
    "pe[:, 0::2]= 1"
   ]
  },
  {
   "cell_type": "code",
   "execution_count": 9,
   "metadata": {},
   "outputs": [
    {
     "data": {
      "text/plain": [
       "tensor([[1., 0., 1., 0.],\n",
       "        [1., 0., 1., 0.],\n",
       "        [1., 0., 1., 0.],\n",
       "        [1., 0., 1., 0.],\n",
       "        [1., 0., 1., 0.],\n",
       "        [1., 0., 1., 0.],\n",
       "        [1., 0., 1., 0.],\n",
       "        [1., 0., 1., 0.],\n",
       "        [1., 0., 1., 0.],\n",
       "        [1., 0., 1., 0.]])"
      ]
     },
     "execution_count": 9,
     "metadata": {},
     "output_type": "execute_result"
    }
   ],
   "source": [
    "pe"
   ]
  },
  {
   "cell_type": "code",
   "execution_count": null,
   "metadata": {},
   "outputs": [
    {
     "data": {
      "text/plain": [
       "tensor([[1., 1.],\n",
       "        [1., 1.],\n",
       "        [1., 1.],\n",
       "        [1., 1.],\n",
       "        [1., 1.],\n",
       "        [1., 1.],\n",
       "        [1., 1.],\n",
       "        [1., 1.],\n",
       "        [1., 1.],\n",
       "        [1., 1.]])"
      ]
     },
     "execution_count": 12,
     "metadata": {},
     "output_type": "execute_result"
    }
   ],
   "source": [
    "pe[:,0::2] # even cols"
   ]
  },
  {
   "cell_type": "code",
   "execution_count": 14,
   "metadata": {},
   "outputs": [
    {
     "data": {
      "text/plain": [
       "(tensor([[1., 0., 1., 0.],\n",
       "         [1., 0., 1., 0.],\n",
       "         [1., 0., 1., 0.],\n",
       "         [1., 0., 1., 0.],\n",
       "         [1., 0., 1., 0.],\n",
       "         [1., 0., 1., 0.],\n",
       "         [1., 0., 1., 0.],\n",
       "         [1., 0., 1., 0.],\n",
       "         [1., 0., 1., 0.],\n",
       "         [1., 0., 1., 0.]]),\n",
       " torch.Size([10, 4]))"
      ]
     },
     "execution_count": 14,
     "metadata": {},
     "output_type": "execute_result"
    }
   ],
   "source": [
    "pe, pe.shape"
   ]
  },
  {
   "cell_type": "code",
   "execution_count": null,
   "metadata": {},
   "outputs": [
    {
     "data": {
      "text/plain": [
       "(tensor([[[1., 0., 1., 0.],\n",
       "          [1., 0., 1., 0.],\n",
       "          [1., 0., 1., 0.],\n",
       "          [1., 0., 1., 0.],\n",
       "          [1., 0., 1., 0.],\n",
       "          [1., 0., 1., 0.],\n",
       "          [1., 0., 1., 0.],\n",
       "          [1., 0., 1., 0.],\n",
       "          [1., 0., 1., 0.],\n",
       "          [1., 0., 1., 0.]]]),\n",
       " torch.Size([1, 10, 4]))"
      ]
     },
     "execution_count": 15,
     "metadata": {},
     "output_type": "execute_result"
    }
   ],
   "source": [
    "pe_sq= pe.unsqueeze(0)\n",
    "pe_sq, pe_sq.shape #(1, seqlen, d_model)"
   ]
  },
  {
   "cell_type": "code",
   "execution_count": 19,
   "metadata": {},
   "outputs": [
    {
     "data": {
      "text/plain": [
       "(tensor([[[1., 0., 1., 0.],\n",
       "          [1., 0., 1., 0.],\n",
       "          [1., 0., 1., 0.],\n",
       "          [1., 0., 1., 0.],\n",
       "          [1., 0., 1., 0.],\n",
       "          [1., 0., 1., 0.],\n",
       "          [1., 0., 1., 0.],\n",
       "          [1., 0., 1., 0.],\n",
       "          [1., 0., 1., 0.],\n",
       "          [1., 0., 1., 0.]]]),\n",
       " torch.Size([1, 10, 4]))"
      ]
     },
     "execution_count": 19,
     "metadata": {},
     "output_type": "execute_result"
    }
   ],
   "source": [
    "pe_sq= pe.unsqueeze(0)\n",
    "pe_sq, pe_sq.shape"
   ]
  },
  {
   "cell_type": "code",
   "execution_count": 21,
   "metadata": {},
   "outputs": [
    {
     "data": {
      "text/plain": [
       "tensor([[1., 1., 1., 1.],\n",
       "        [1., 1., 1., 1.],\n",
       "        [1., 1., 1., 1.],\n",
       "        [1., 1., 1., 1.]])"
      ]
     },
     "execution_count": 21,
     "metadata": {},
     "output_type": "execute_result"
    }
   ],
   "source": [
    "torch.ones(4,4)"
   ]
  },
  {
   "cell_type": "code",
   "execution_count": 26,
   "metadata": {},
   "outputs": [
    {
     "ename": "TypeError",
     "evalue": "masked_fill_() received an invalid combination of arguments - got (bool, float), but expected one of:\n * (Tensor mask, Tensor value)\n      didn't match because some of the arguments have invalid types: (!bool!, !float!)\n * (Tensor mask, Number value)\n      didn't match because some of the arguments have invalid types: (!bool!, !float!)\n",
     "output_type": "error",
     "traceback": [
      "\u001b[1;31m---------------------------------------------------------------------------\u001b[0m",
      "\u001b[1;31mTypeError\u001b[0m                                 Traceback (most recent call last)",
      "\u001b[1;32m<ipython-input-26-3c5f51fe805a>\u001b[0m in \u001b[0;36m<module>\u001b[1;34m\u001b[0m\n\u001b[0;32m      1\u001b[0m \u001b[0mmask\u001b[0m\u001b[1;33m=\u001b[0m\u001b[1;36m0\u001b[0m\u001b[1;33m\u001b[0m\u001b[0m\n\u001b[1;32m----> 2\u001b[1;33m \u001b[0mtorch\u001b[0m\u001b[1;33m.\u001b[0m\u001b[0mones\u001b[0m\u001b[1;33m(\u001b[0m\u001b[1;36m4\u001b[0m\u001b[1;33m,\u001b[0m\u001b[1;36m4\u001b[0m\u001b[1;33m)\u001b[0m\u001b[1;33m.\u001b[0m\u001b[0mmasked_fill_\u001b[0m\u001b[1;33m(\u001b[0m\u001b[0mmask\u001b[0m\u001b[1;33m==\u001b[0m\u001b[1;36m0\u001b[0m\u001b[1;33m,\u001b[0m\u001b[1;33m-\u001b[0m\u001b[1;36m1e9\u001b[0m \u001b[1;33m)\u001b[0m\u001b[1;33m\u001b[0m\u001b[0m\n\u001b[0m",
      "\u001b[1;31mTypeError\u001b[0m: masked_fill_() received an invalid combination of arguments - got (bool, float), but expected one of:\n * (Tensor mask, Tensor value)\n      didn't match because some of the arguments have invalid types: (!bool!, !float!)\n * (Tensor mask, Number value)\n      didn't match because some of the arguments have invalid types: (!bool!, !float!)\n"
     ]
    }
   ],
   "source": [
    "mask=0\n",
    "torch.ones(4,4).masked_fill_(mask==0,-1e9 )"
   ]
  },
  {
   "cell_type": "markdown",
   "metadata": {},
   "source": [
    "# Transpose Analysis"
   ]
  },
  {
   "cell_type": "code",
   "execution_count": 28,
   "metadata": {},
   "outputs": [
    {
     "data": {
      "text/plain": [
       "(tensor([[[0.6236, 0.8908, 0.6641, 0.4607, 0.4849, 0.5822],\n",
       "          [0.3701, 0.7083, 0.2722, 0.4122, 0.9365, 0.2049],\n",
       "          [0.7332, 0.0534, 0.6546, 0.6742, 0.2707, 0.6282],\n",
       "          [0.9088, 0.1076, 0.6441, 0.1696, 0.8745, 0.8239]],\n",
       " \n",
       "         [[0.3982, 0.1888, 0.8399, 0.5981, 0.7904, 0.0173],\n",
       "          [0.0893, 0.4985, 0.3218, 0.6895, 0.2515, 0.3900],\n",
       "          [0.3617, 0.4890, 0.6890, 0.3687, 0.9611, 0.6168],\n",
       "          [0.7797, 0.5307, 0.5546, 0.9671, 0.3759, 0.8230]]]),\n",
       " torch.Size([2, 4, 6]))"
      ]
     },
     "execution_count": 28,
     "metadata": {},
     "output_type": "execute_result"
    }
   ],
   "source": [
    "a= torch.rand(2,4,6)\n",
    "a, a.shape"
   ]
  },
  {
   "cell_type": "code",
   "execution_count": 31,
   "metadata": {},
   "outputs": [
    {
     "data": {
      "text/plain": [
       "(tensor([[[0.6236, 0.3701, 0.7332, 0.9088],\n",
       "          [0.8908, 0.7083, 0.0534, 0.1076],\n",
       "          [0.6641, 0.2722, 0.6546, 0.6441],\n",
       "          [0.4607, 0.4122, 0.6742, 0.1696],\n",
       "          [0.4849, 0.9365, 0.2707, 0.8745],\n",
       "          [0.5822, 0.2049, 0.6282, 0.8239]],\n",
       " \n",
       "         [[0.3982, 0.0893, 0.3617, 0.7797],\n",
       "          [0.1888, 0.4985, 0.4890, 0.5307],\n",
       "          [0.8399, 0.3218, 0.6890, 0.5546],\n",
       "          [0.5981, 0.6895, 0.3687, 0.9671],\n",
       "          [0.7904, 0.2515, 0.9611, 0.3759],\n",
       "          [0.0173, 0.3900, 0.6168, 0.8230]]]),\n",
       " torch.Size([2, 6, 4]))"
      ]
     },
     "execution_count": 31,
     "metadata": {},
     "output_type": "execute_result"
    }
   ],
   "source": [
    "a_t= a.transpose(1,2)\n",
    "a_t, a_t.shape\n",
    "# If a has a shape of [batch_size, seq_length, feature_dim], then:\n",
    "\n",
    "# a.shape = [batch_size, seq_length, feature_dim]\n",
    "# After a.transpose(1, 2), the shape will be [batch_size, feature_dim, seq_length].\n",
    "# The first dimension (batch size) is unaffected, while the second and third dimensions are swapped."
   ]
  },
  {
   "cell_type": "code",
   "execution_count": 38,
   "metadata": {},
   "outputs": [
    {
     "data": {
      "text/plain": [
       "(tensor([[[[0.2564, 0.4623, 0.4832, 0.3531, 0.0852, 0.1299],\n",
       "           [0.0043, 0.2585, 0.7186, 0.4281, 0.9582, 0.3894],\n",
       "           [0.8554, 0.8641, 0.1721, 0.8862, 0.4902, 0.1209],\n",
       "           [0.4561, 0.8694, 0.0347, 0.5804, 0.5318, 0.6702],\n",
       "           [0.2690, 0.5318, 0.9827, 0.5646, 0.1534, 0.5824]],\n",
       " \n",
       "          [[0.2476, 0.2175, 0.7794, 0.0643, 0.1384, 0.9333],\n",
       "           [0.0560, 0.3049, 0.7617, 0.5688, 0.9780, 0.5354],\n",
       "           [0.2187, 0.3732, 0.5589, 0.2344, 0.5834, 0.6484],\n",
       "           [0.5494, 0.6662, 0.1948, 0.5354, 0.4381, 0.5817],\n",
       "           [0.3530, 0.5687, 0.3512, 0.2544, 0.3966, 0.8198]]]]),\n",
       " torch.Size([1, 2, 5, 6]))"
      ]
     },
     "execution_count": 38,
     "metadata": {},
     "output_type": "execute_result"
    }
   ],
   "source": [
    "# Another Example \n",
    "c= torch.rand(1,2,5,6)\n",
    "c, c.shape\n"
   ]
  },
  {
   "cell_type": "code",
   "execution_count": 51,
   "metadata": {},
   "outputs": [
    {
     "data": {
      "text/plain": [
       "(torch.Size([1, 2, 5, 6]), torch.Size([1, 5, 2, 6]))"
      ]
     },
     "execution_count": 51,
     "metadata": {},
     "output_type": "execute_result"
    }
   ],
   "source": [
    "d = c.transpose(1,2)\n",
    "c.shape, d.shape"
   ]
  },
  {
   "cell_type": "code",
   "execution_count": 52,
   "metadata": {},
   "outputs": [
    {
     "data": {
      "text/plain": [
       "(torch.Size([1, 2, 5, 6]), torch.Size([1, 2, 6, 5]))"
      ]
     },
     "execution_count": 52,
     "metadata": {},
     "output_type": "execute_result"
    }
   ],
   "source": [
    "d = c.transpose(-1,2)\n",
    "c.shape, d.shape"
   ]
  },
  {
   "cell_type": "code",
   "execution_count": null,
   "metadata": {},
   "outputs": [],
   "source": []
  }
 ],
 "metadata": {
  "kernelspec": {
   "display_name": "test_env",
   "language": "python",
   "name": "python3"
  },
  "language_info": {
   "codemirror_mode": {
    "name": "ipython",
    "version": 3
   },
   "file_extension": ".py",
   "mimetype": "text/x-python",
   "name": "python",
   "nbconvert_exporter": "python",
   "pygments_lexer": "ipython3",
   "version": "3.6.3"
  }
 },
 "nbformat": 4,
 "nbformat_minor": 2
}
