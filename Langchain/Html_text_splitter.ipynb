{
 "cells": [
  {
   "cell_type": "markdown",
   "metadata": {},
   "source": [
    "**https://python.langchain.com/v0.1/docs/modules/data_connection/document_transformers/**\n",
    "<span style=\"background-color: yellow; color: black; padding: 2px;\">[Website](https://python.langchain.com/v0.1/docs/modules/data_connection/document_transformers/)</span>"
   ]
  },
  {
   "cell_type": "markdown",
   "metadata": {},
   "source": [
    "**Text Splitters**\n",
    "\n",
    "At a high level, text splitters work as following:\n",
    "\n",
    "1) plit the text up into small, semantically meaningful chunks (often sentences).\n",
    "2) Start combining these small chunks into a larger chunk until you reach a certain size (as measured by some function).\n",
    "3) Once you reach that size, make that chunk its own piece of text and then start creating a new chunk of text with some overlap (to keep context between chunks).\n",
    "\n",
    "* That means there are two different axes along which you can customize your text splitter:\n",
    "\n",
    "1) How the text is split\n",
    "2) How the chunk size is measured"
   ]
  },
  {
   "cell_type": "markdown",
   "metadata": {},
   "source": [
    "# <span style=\"background-color: green; color: white; padding: 2px;\">HTML Text Splitter.</span>\n",
    "\n",
    "\tSplits text based on HTML-specific characters. Notably, this adds in relevant information about where that chunk came from (based on the HTML)\n"
   ]
  },
  {
   "cell_type": "code",
   "execution_count": 8,
   "metadata": {},
   "outputs": [],
   "source": [
    "# !pip install lxml"
   ]
  },
  {
   "cell_type": "code",
   "execution_count": 3,
   "metadata": {},
   "outputs": [],
   "source": [
    "# Basic imports\n",
    "from langchain_community.document_loaders import WebBaseLoader #helps to load data from website\n",
    "from langchain_text_splitters import HTMLHeaderTextSplitter"
   ]
  },
  {
   "cell_type": "code",
   "execution_count": 9,
   "metadata": {},
   "outputs": [
    {
     "data": {
      "text/plain": [
       "[Document(metadata={}, page_content='Foo'),\n",
       " Document(metadata={'Header 1': 'Foo'}, page_content='Some intro text about Foo.  \\nBar main section Bar subsection 1 Bar subsection 2'),\n",
       " Document(metadata={'Header 1': 'Foo', 'Header 2': 'Bar main section'}, page_content='Some intro text about Bar.'),\n",
       " Document(metadata={'Header 1': 'Foo', 'Header 2': 'Bar main section', 'Header 3': 'Bar subsection 1'}, page_content='Some text about the first subtopic of Bar.'),\n",
       " Document(metadata={'Header 1': 'Foo', 'Header 2': 'Bar main section', 'Header 3': 'Bar subsection 2'}, page_content='Some text about the second subtopic of Bar.'),\n",
       " Document(metadata={'Header 1': 'Foo'}, page_content='Baz'),\n",
       " Document(metadata={'Header 1': 'Foo', 'Header 2': 'Baz'}, page_content='Some text about Baz'),\n",
       " Document(metadata={'Header 1': 'Foo'}, page_content='Some concluding text about Foo')]"
      ]
     },
     "execution_count": 9,
     "metadata": {},
     "output_type": "execute_result"
    }
   ],
   "source": [
    "# sample data\n",
    "html_string = \"\"\"\n",
    "<!DOCTYPE html>\n",
    "<html>\n",
    "<body>\n",
    "    <div>\n",
    "        <h1>Foo</h1>\n",
    "        <p>Some intro text about Foo.</p>\n",
    "        <div>\n",
    "            <h2>Bar main section</h2>\n",
    "            <p>Some intro text about Bar.</p>\n",
    "            <h3>Bar subsection 1</h3>\n",
    "            <p>Some text about the first subtopic of Bar.</p>\n",
    "            <h3>Bar subsection 2</h3>\n",
    "            <p>Some text about the second subtopic of Bar.</p>\n",
    "        </div>\n",
    "        <div>\n",
    "            <h2>Baz</h2>\n",
    "            <p>Some text about Baz</p>\n",
    "        </div>\n",
    "        <br>\n",
    "        <p>Some concluding text about Foo</p>\n",
    "    </div>\n",
    "</body>\n",
    "</html>\n",
    "\"\"\"\n",
    "headers_to_split_on = [\n",
    "    (\"h1\", \"Header 1\"),\n",
    "    (\"h2\", \"Header 2\"),\n",
    "    (\"h3\", \"Header 3\"),\n",
    "]\n",
    "html_splitter = HTMLHeaderTextSplitter(headers_to_split_on=headers_to_split_on)\n",
    "html_header_splits = html_splitter.split_text(html_string)\n",
    "html_header_splits\n"
   ]
  },
  {
   "cell_type": "code",
   "execution_count": 10,
   "metadata": {},
   "outputs": [],
   "source": [
    "## Let's fecth datafrom real website\n",
    "data= \"\"\"<html class=\"no-js\" lang=\"en\"> <!--<![endif]-->\n",
    "<head>\n",
    "    <meta charset=\"utf-8\">\n",
    "    <meta name=\"generator\" content=\"Docutils 0.17.1: http://docutils.sourceforge.net/\" />\n",
    "\n",
    "    <meta name=\"viewport\" content=\"width=device-width, initial-scale=1.0\">\n",
    "\n",
    "    \n",
    "        <title>langchain_text_splitters.html.HTMLHeaderTextSplitter &mdash; 🦜🔗 LangChain 0.2.17</title>\n",
    "    \n",
    "    <link rel=\"canonical\"\n",
    "          href=\"https://api.python.langchain.com/en/latest/html/langchain_text_splitters.html.HTMLHeaderTextSplitter.html\"/>\n",
    "\n",
    "    \n",
    "\n",
    "    <link rel=\"stylesheet\"\n",
    "          href=\"../_static/css/vendor/bootstrap.min.css\"\n",
    "          type=\"text/css\"/>\n",
    "            <link rel=\"stylesheet\" href=\"../_static/pygments.css\" type=\"text/css\"/>\n",
    "            <link rel=\"stylesheet\" href=\"../_static/css/theme.css\" type=\"text/css\"/>\n",
    "            <link rel=\"stylesheet\" href=\"../_static/autodoc_pydantic.css\" type=\"text/css\"/>\n",
    "            <link rel=\"stylesheet\" href=\"../_static/copybutton.css\" type=\"text/css\"/>\n",
    "            <link rel=\"stylesheet\" href=\"../_static/sphinx-dropdown.css\" type=\"text/css\"/>\n",
    "            <link rel=\"stylesheet\" href=\"../_static/panels-bootstrap.min.css\" type=\"text/css\"/>\n",
    "            <link rel=\"stylesheet\" href=\"../_static/css/custom.css\" type=\"text/css\"/>\n",
    "    <link rel=\"stylesheet\" href=\"../_static/css/theme.css\" type=\"text/css\"/>\n",
    "    <script id=\"documentation_options\" data-url_root=\"../\"\n",
    "            src=\"../_static/documentation_options.js\"></script>\n",
    "    <script src=\"../_static/jquery.js\"></script> \n",
    "<script async type=\"text/javascript\" src=\"/_/static/javascript/readthedocs-addons.js\"></script><meta name=\"readthedocs-project-slug\" content=\"langchain\" /><meta name=\"readthedocs-version-slug\" content=\"latest\" /><meta name=\"readthedocs-resolver-filename\" content=\"/html/langchain_text_splitters.html.HTMLHeaderTextSplitter.html\" /><meta name=\"readthedocs-http-status\" content=\"200\" /></head>\n",
    "<body>\n",
    "<div class=\"banner\">\n",
    "    <p>This is a legacy site. Please use the latest <a href=\"https://python.langchain.com/v0.2/api_reference/reference.html\">v0.2</a> and <a href=\"https://python.langchain.com/api_reference/\">v0.3</a> API references instead.</p>\n",
    "</div>\n",
    "\"\"\""
   ]
  },
  {
   "cell_type": "code",
   "execution_count": 13,
   "metadata": {},
   "outputs": [
    {
     "data": {
      "text/plain": [
       "[Document(metadata={}, page_content='This is a legacy site. Please use the latest v0.2 and v0.3 API references instead.')]"
      ]
     },
     "execution_count": 13,
     "metadata": {},
     "output_type": "execute_result"
    }
   ],
   "source": [
    "headers_to_split_on = [\n",
    "    (\"link rel\", \"Header 1\"),\n",
    "    \n",
    "]\n",
    "html_splitter = HTMLHeaderTextSplitter(headers_to_split_on=headers_to_split_on)\n",
    "html_header_splits = html_splitter.split_text(data)\n",
    "html_header_splits"
   ]
  },
  {
   "cell_type": "code",
   "execution_count": 14,
   "metadata": {},
   "outputs": [
    {
     "data": {
      "text/plain": [
       "[Document(metadata={'Header 1': 'Foo'}, page_content='Foo \\n Some intro text about Foo.'),\n",
       " Document(metadata={'Header 2': 'Bar main section'}, page_content='Bar main section \\n Some intro text about Bar.'),\n",
       " Document(metadata={'Header 3': 'Bar subsection 1'}, page_content='Bar subsection 1 \\n Some text about the first subtopic of Bar.'),\n",
       " Document(metadata={'Header 3': 'Bar subsection 2'}, page_content='Bar subsection 2 \\n Some text about the second subtopic of Bar.'),\n",
       " Document(metadata={'Header 2': 'Baz'}, page_content='Baz \\n Some text about Baz \\n \\n \\n Some concluding text about Foo')]"
      ]
     },
     "execution_count": 14,
     "metadata": {},
     "output_type": "execute_result"
    }
   ],
   "source": [
    "from langchain.text_splitter import RecursiveCharacterTextSplitter\n",
    "from langchain_text_splitters import HTMLSectionSplitter\n",
    "\n",
    "html_string = \"\"\"\n",
    "    <!DOCTYPE html>\n",
    "    <html>\n",
    "    <body>\n",
    "        <div>\n",
    "            <h1>Foo</h1>\n",
    "            <p>Some intro text about Foo.</p>\n",
    "            <div>\n",
    "                <h2>Bar main section</h2>\n",
    "                <p>Some intro text about Bar.</p>\n",
    "                <h3>Bar subsection 1</h3>\n",
    "                <p>Some text about the first subtopic of Bar.</p>\n",
    "                <h3>Bar subsection 2</h3>\n",
    "                <p>Some text about the second subtopic of Bar.</p>\n",
    "            </div>\n",
    "            <div>\n",
    "                <h2>Baz</h2>\n",
    "                <p>Some text about Baz</p>\n",
    "            </div>\n",
    "            <br>\n",
    "            <p>Some concluding text about Foo</p>\n",
    "        </div>\n",
    "    </body>\n",
    "    </html>\n",
    "\"\"\"\n",
    "\n",
    "headers_to_split_on = [\n",
    "    (\"h1\", \"Header 1\"),\n",
    "    (\"h2\", \"Header 2\"),\n",
    "    (\"h3\", \"Header 3\"),\n",
    "    (\"h4\", \"Header 4\"),\n",
    "]\n",
    "\n",
    "html_splitter = HTMLSectionSplitter(headers_to_split_on=headers_to_split_on)\n",
    "\n",
    "html_header_splits = html_splitter.split_text(html_string)\n",
    "\n",
    "chunk_size = 500\n",
    "chunk_overlap = 30\n",
    "text_splitter = RecursiveCharacterTextSplitter(\n",
    "    chunk_size=chunk_size, chunk_overlap=chunk_overlap\n",
    ")\n",
    "\n",
    "# Split\n",
    "splits = text_splitter.split_documents(html_header_splits)\n",
    "splits"
   ]
  },
  {
   "cell_type": "markdown",
   "metadata": {},
   "source": [
    "# Split text from url"
   ]
  },
  {
   "cell_type": "code",
   "execution_count": 17,
   "metadata": {},
   "outputs": [],
   "source": [
    "html_splitter= HTMLHeaderTextSplitter(headers_to_split_on=headers_to_split_on)\n",
    "headers_to_split_on = [\n",
    "    (\"h1\", \"Header 1\"),\n",
    "    (\"h2\", \"Header 2\"),\n",
    "    (\"h3\", \"Header 3\"),\n",
    "    (\"h4\", \"Header 4\"),\n",
    "]\n",
    "splitted_text= html_splitter.split_text_from_url(\"https://api.python.langchain.com/en/latest/html/langchain_text_splitters.html.HTMLHeaderTextSplitter.html\")\n"
   ]
  },
  {
   "cell_type": "code",
   "execution_count": 18,
   "metadata": {},
   "outputs": [
    {
     "data": {
      "text/plain": [
       "[Document(metadata={}, page_content='This is a legacy site. Please use the latest v0.2 and v0.3 API references instead.  \\nLangChain Core Community Experimental Text splitters ai21 airbyte anthropic astradb aws azure-dynamic-sessions box chroma cohere couchbase elasticsearch exa fireworks google-community google-genai google-vertexai groq huggingface ibm milvus mistralai mongodb nomic nvidia-ai-endpoints ollama openai pinecone postgres prompty qdrant robocorp together unstructured voyageai weaviate Partner libs Docs  \\nai21 airbyte anthropic astradb aws azure-dynamic-sessions box chroma cohere couchbase elasticsearch exa fireworks google-community google-genai google-vertexai groq huggingface ibm milvus mistralai mongodb nomic nvidia-ai-endpoints ollama openai pinecone postgres prompty qdrant robocorp together unstructured voyageai weaviate  \\nToggle Menu  \\nlangchain_text_splitters.html.HTMLHeaderTextSplitter  \\nHTMLHeaderTextSplitter  \\nHTMLHeaderTextSplitter.__init__() HTMLHeaderTextSplitter.aggregate_elements_to_chunks() HTMLHeaderTextSplitter.split_text() HTMLHeaderTextSplitter.split_text_from_file() HTMLHeaderTextSplitter.split_text_from_url()  \\nlangchain_text_splitters.html.HTMLHeaderTextSplitter¶ class langchain_text_splitters.html.HTMLHeaderTextSplitter(headers_to_split_on: List[Tuple[str, str]], return_each_element: bool = False)[source]¶ Parameters __init__(headers_to_split_on: List[Tuple[str, str]], return_each_element: bool = False)[source]¶ Parameters aggregate_elements_to_chunks(elements: List[ElementType]) → List[Document][source]¶ Parameters Return type split_text(text: str) → List[Document][source]¶ Parameters Return type split_text_from_file(file: Any) → List[Document][source]¶ Parameters Return type split_text_from_url(url: str, **kwargs: Any) → List[Document][source]¶ Parameters Return type Examples using HTMLHeaderTextSplitter¶'),\n",
       " Document(metadata={'Header 1': 'langchain_text_splitters.html.HTMLHeaderTextSplitter¶'}, page_content='Splitting HTML files based on specified headers. Requires lxml package.  \\nCreate a new HTMLHeaderTextSplitter.  \\nheaders_to_split_on (List[Tuple[str, str]]) – list of tuples of headers we want to track mapped to (arbitrary) keys for metadata. Allowed header values: h1, h2, h3, h4, h5, h6 e.g. [(“h1”, “Header 1”), (“h2”, “Header 2)].  \\nreturn_each_element (bool) – Return each element w/ associated headers.  \\nMethods  \\n__init__(headers_to_split_on[,\\xa0...])  \\nCreate a new HTMLHeaderTextSplitter.  \\naggregate_elements_to_chunks(elements)  \\nCombine elements with common metadata into chunks  \\nsplit_text(text)  \\nSplit HTML text string  \\nsplit_text_from_file(file)  \\nSplit HTML file  \\nsplit_text_from_url(url,\\xa0**kwargs)  \\nSplit HTML from web URL  \\nCreate a new HTMLHeaderTextSplitter.  \\nheaders_to_split_on (List[Tuple[str, str]]) – list of tuples of headers we want to track mapped to (arbitrary) keys for metadata. Allowed header values: h1, h2, h3, h4, h5, h6 e.g. [(“h1”, “Header 1”), (“h2”, “Header 2)].  \\nreturn_each_element (bool) – Return each element w/ associated headers.  \\nCombine elements with common metadata into chunks  \\nelements (List[ElementType]) – HTML element content with associated identifying info and metadata  \\nList[Document]  \\nSplit HTML text string  \\ntext (str) – HTML text  \\nList[Document]  \\nSplit HTML file  \\nfile (Any) – HTML file  \\nList[Document]  \\nSplit HTML from web URL  \\nurl (str) – web URL  \\n**kwargs (Any) – Arbitrary additional keyword arguments. These are usually passed to the fetch url content request.  \\nList[Document]'),\n",
       " Document(metadata={'Header 1': 'Examples using HTMLHeaderTextSplitter¶'}, page_content='How to split by HTML header'),\n",
       " Document(metadata={}, page_content='© 2023, LangChain, Inc. . Last updated on Nov 12, 2024.')]"
      ]
     },
     "execution_count": 18,
     "metadata": {},
     "output_type": "execute_result"
    }
   ],
   "source": [
    "splitted_text"
   ]
  },
  {
   "cell_type": "code",
   "execution_count": null,
   "metadata": {},
   "outputs": [],
   "source": []
  }
 ],
 "metadata": {
  "kernelspec": {
   "display_name": "torch_env",
   "language": "python",
   "name": "python3"
  },
  "language_info": {
   "codemirror_mode": {
    "name": "ipython",
    "version": 3
   },
   "file_extension": ".py",
   "mimetype": "text/x-python",
   "name": "python",
   "nbconvert_exporter": "python",
   "pygments_lexer": "ipython3",
   "version": "3.10.15"
  }
 },
 "nbformat": 4,
 "nbformat_minor": 2
}
