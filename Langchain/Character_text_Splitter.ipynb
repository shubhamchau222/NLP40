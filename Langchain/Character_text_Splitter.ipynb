{
 "cells": [
  {
   "cell_type": "code",
   "execution_count": 3,
   "metadata": {},
   "outputs": [
    {
     "name": "stdout",
     "output_type": "stream",
     "text": [
      "ACKNOWLEDGEMENTS\n",
      "The report was produced by the Management of Substance Abuse Unit (MSB) in\n",
      "the Department of Mental Health and Substance Abuse (MSD) of the World Health Organization (WHO), Geneva, Switzerland. The report was developed within the framework\n",
      "of WHO's activities on global monitoring of alcohol consumption, alcohol-related harm\n",
      "and policy responses, and is linked to WHO’s work on the Global Information System on\n",
      "Alcohol and Health (GISAH).\n",
      "Executive editors: Vladimir Poznyak and Dag Rekve.\n",
      "Within the WHO Secretariat, Svetlana Akselrod, Assistant Director-General, Noncommunicable Diseases and Mental Health, and Shekhar Saxena, Director, Department of Mental Health and Substance Abuse, provided vision, guidance, support and valuable\n",
      "contributions to this project.\n",
      "The WHO staff involved in development and production of this report were: Alexandra\n",
      "Fleischmann, Elise Gehring, Vladimir Poznyak, and Dag Rekve of the WHO MSD/MSB\n",
      "unit at WHO headquarters in Geneva. The report benefited from technical inputs from\n",
      "Dzmitry Krupchanka of WHO MSD/MSB. Jan-Christopher Gumm provided a significant\n",
      "contribution to the production of the report in his capacity as a consultant. Gretchen\n",
      "Stevens, Colin Mathers, Jessica Ho, and Annet Mahanani from the Department of\n",
      "Information, Evidence and Research contributed to the estimates of alcohol-attributable\n",
      "disease burden and provided technical input at all stages of the report’s development.\n",
      "Margie Peden and Tami Toroyan from the Department of Management of NCDs, Disability, Violence & Injury Prevention provided technical input to the report at different stages of\n",
      "its development. Leanne Riley, Regina Guthold and Melanie Cowan from the Department of Prevention of Noncommunicable Diseases provided data from the WHO-supported\n",
      "surveys and technical input to the report. Kathryn O’Neill, Philippe Boucher, Zoe Brillantes, John Rawlinson, and Florence Rusciano from the Department of Information, Evidence\n",
      "and Research were the technical counterparts from the Global Health Observatory for\n",
      "creating maps and for updating GISAH.\n",
      "Preparation of this report is a collaborative effort of the WHO Department of Mental Health and Substance Abuse, Management of Substance Abuse, with the Centre for Addiction\n",
      "and Mental Health (CAMH), Toronto, Canada. The contributions from Jürgen Rehm, Kevin Shield, Jakob Manthey, and Margaret Rylett (CAMH, Canada) as well as from Gerhard\n",
      "Gmel (Alcohol Treatment Center, Lausanne University Hospital, Switzerland), David Jernigan and Pamela Trangenstein (Johns Hopkins Bloomberg School of Public Health,\n",
      "USA), and Robin Room\n",
      "\n",
      "The collection of data in the framework of the WHO Global Survey on Alcohol and Health\n",
      "and the development of this report were undertaken in collaboration with the six WHO\n",
      "regional offices and WHO country offices. Key contributors to the report in the WHO\n",
      "regional offices were:\n",
      "WHO African Region:\n",
      "Sebastiana Nkomo, Nivo Ramanandraibe, and Steven Shongwe\n",
      "WHO Region of the Americas:\n",
      "Maristela Goldnadel Monteiro, Blake Andrea Smith, and Lalla Maiga\n",
      "WHO Eastern Mediterranean Region:\n",
      "Khalid Saeed\n",
      "WHO European Region:\n",
      "Carina Ferreira-Borges, Lars Møller, Nina Blinkenberg, Julie Brummer, and Lisa Scholin\n",
      "WHO South-East Asia Region:\n",
      "Nazneen Anwar\n",
      "WHO Western Pacific Region:\n",
      "Martin Vandendyck, Xiangdong Wang and Maribel Villanueva.\n",
      "For their contributions to individual chapters and annexes we acknowledge the following:\n",
      "Executive summary: David Bramley and Vladimir Poznyak.\n",
      "Chapter 1: Robin Room, Kevin Shield.\n",
      "Chapter 2: Dag Rekve, Alexandra Fleischmann, Robin Room, Vladimir Poznyak.\n",
      "Chapter 3: Gerhard Gmel, Kevin Shield, Jürgen Rehm, Margaret Rylett, Aya Kinjo.\n",
      "Chapter 4: Kevin Shield, Jürgen Rehm, Gretchen Stevens.\n",
      "Chapter 5: David Jernigan and Pamela Trangenstein.\n",
      "Chapter 6: Robin Room, David Jernigan, Pamela Trangenstein, Dag Rekve, Vladimir Poznyak.\n",
      "Country profiles: Margaret Rylett and Alexandra Fleischmann.\n",
      "Appendices i–iii: Margaret Rylett and Alexandra Fleischmann.\n",
      "Appendix iv: Margaret Rylett and Alexandra Fleischmann.\n",
      "This report would not have been possible without contributions from the WHO national\n",
      "counterparts for implementation of the Global strategy to reduce the harmful use of alcohol\n",
      "in WHO Member States who provided country-level data and other relevant information\n",
      "on alcohol consumption, alcohol-related harm and policy responses.\n",
      "The report benefited from the input provided by the following peer reviewers:\n",
      "Chapter 1: Charles Parry (South Africa).\n",
      "Chapter 2: Charles Parry (South Africa), Sally Casswell (New Zealand).\n",
      "Chapters 3–4: Isidore S. Obot (Nigeria).\n",
      "Chapter 5: Sally Casswell (New Zealand), Isidore S. Obot (Nigeria).\n",
      "Chapter 6: Sally Casswell (New Zealand).\n",
      "David Bramley (Switzerland) edited the report.\n",
      "L’IV Com Sàrl (Switzerland) developed the graphic design and layout.\n",
      "Administrative support was provided by Divina Maramba.\n",
      "WHO interns who contributed to the report include: Ioanna Antzoulatou, Kathryn Elliot,\n",
      "Tatiana Fomina, Anna Fruehauf, Eloise Harrison, Aceel Hawa, Preeti Khanal, Shaista Madad, Mariam Mujiri, Andres Rodriguez, Zsofia Szlamka.\n",
      "Finally, WHO gratefully acknowledges the financial support\n"
     ]
    }
   ],
   "source": [
    "from langchain_community.document_loaders import TextLoader\n",
    "loader= TextLoader(\"Documents/alchohol.txt\")\n",
    "docs=loader.load()\n",
    "print(docs[0].page_content)"
   ]
  },
  {
   "cell_type": "markdown",
   "metadata": {},
   "source": [
    "<span style=\"background-color: green; color: white; padding: 2px;\">Character Text Splitter</span>\n"
   ]
  },
  {
   "cell_type": "code",
   "execution_count": 5,
   "metadata": {},
   "outputs": [
    {
     "name": "stderr",
     "output_type": "stream",
     "text": [
      "Created a chunk of size 2615, which is longer than the specified 100\n"
     ]
    },
    {
     "data": {
      "text/plain": [
       "[Document(metadata={'source': 'Documents/alchohol.txt'}, page_content=\"ACKNOWLEDGEMENTS\\nThe report was produced by the Management of Substance Abuse Unit (MSB) in\\nthe Department of Mental Health and Substance Abuse (MSD) of the World Health Organization (WHO), Geneva, Switzerland. The report was developed within the framework\\nof WHO's activities on global monitoring of alcohol consumption, alcohol-related harm\\nand policy responses, and is linked to WHO’s work on the Global Information System on\\nAlcohol and Health (GISAH).\\nExecutive editors: Vladimir Poznyak and Dag Rekve.\\nWithin the WHO Secretariat, Svetlana Akselrod, Assistant Director-General, Noncommunicable Diseases and Mental Health, and Shekhar Saxena, Director, Department of Mental Health and Substance Abuse, provided vision, guidance, support and valuable\\ncontributions to this project.\\nThe WHO staff involved in development and production of this report were: Alexandra\\nFleischmann, Elise Gehring, Vladimir Poznyak, and Dag Rekve of the WHO MSD/MSB\\nunit at WHO headquarters in Geneva. The report benefited from technical inputs from\\nDzmitry Krupchanka of WHO MSD/MSB. Jan-Christopher Gumm provided a significant\\ncontribution to the production of the report in his capacity as a consultant. Gretchen\\nStevens, Colin Mathers, Jessica Ho, and Annet Mahanani from the Department of\\nInformation, Evidence and Research contributed to the estimates of alcohol-attributable\\ndisease burden and provided technical input at all stages of the report’s development.\\nMargie Peden and Tami Toroyan from the Department of Management of NCDs, Disability, Violence & Injury Prevention provided technical input to the report at different stages of\\nits development. Leanne Riley, Regina Guthold and Melanie Cowan from the Department of Prevention of Noncommunicable Diseases provided data from the WHO-supported\\nsurveys and technical input to the report. Kathryn O’Neill, Philippe Boucher, Zoe Brillantes, John Rawlinson, and Florence Rusciano from the Department of Information, Evidence\\nand Research were the technical counterparts from the Global Health Observatory for\\ncreating maps and for updating GISAH.\\nPreparation of this report is a collaborative effort of the WHO Department of Mental Health and Substance Abuse, Management of Substance Abuse, with the Centre for Addiction\\nand Mental Health (CAMH), Toronto, Canada. The contributions from Jürgen Rehm, Kevin Shield, Jakob Manthey, and Margaret Rylett (CAMH, Canada) as well as from Gerhard\\nGmel (Alcohol Treatment Center, Lausanne University Hospital, Switzerland), David Jernigan and Pamela Trangenstein (Johns Hopkins Bloomberg School of Public Health,\\nUSA), and Robin Room\"),\n",
       " Document(metadata={'source': 'Documents/alchohol.txt'}, page_content='The collection of data in the framework of the WHO Global Survey on Alcohol and Health\\nand the development of this report were undertaken in collaboration with the six WHO\\nregional offices and WHO country offices. Key contributors to the report in the WHO\\nregional offices were:\\nWHO African Region:\\nSebastiana Nkomo, Nivo Ramanandraibe, and Steven Shongwe\\nWHO Region of the Americas:\\nMaristela Goldnadel Monteiro, Blake Andrea Smith, and Lalla Maiga\\nWHO Eastern Mediterranean Region:\\nKhalid Saeed\\nWHO European Region:\\nCarina Ferreira-Borges, Lars Møller, Nina Blinkenberg, Julie Brummer, and Lisa Scholin\\nWHO South-East Asia Region:\\nNazneen Anwar\\nWHO Western Pacific Region:\\nMartin Vandendyck, Xiangdong Wang and Maribel Villanueva.\\nFor their contributions to individual chapters and annexes we acknowledge the following:\\nExecutive summary: David Bramley and Vladimir Poznyak.\\nChapter 1: Robin Room, Kevin Shield.\\nChapter 2: Dag Rekve, Alexandra Fleischmann, Robin Room, Vladimir Poznyak.\\nChapter 3: Gerhard Gmel, Kevin Shield, Jürgen Rehm, Margaret Rylett, Aya Kinjo.\\nChapter 4: Kevin Shield, Jürgen Rehm, Gretchen Stevens.\\nChapter 5: David Jernigan and Pamela Trangenstein.\\nChapter 6: Robin Room, David Jernigan, Pamela Trangenstein, Dag Rekve, Vladimir Poznyak.\\nCountry profiles: Margaret Rylett and Alexandra Fleischmann.\\nAppendices i–iii: Margaret Rylett and Alexandra Fleischmann.\\nAppendix iv: Margaret Rylett and Alexandra Fleischmann.\\nThis report would not have been possible without contributions from the WHO national\\ncounterparts for implementation of the Global strategy to reduce the harmful use of alcohol\\nin WHO Member States who provided country-level data and other relevant information\\non alcohol consumption, alcohol-related harm and policy responses.\\nThe report benefited from the input provided by the following peer reviewers:\\nChapter 1: Charles Parry (South Africa).\\nChapter 2: Charles Parry (South Africa), Sally Casswell (New Zealand).\\nChapters 3–4: Isidore S. Obot (Nigeria).\\nChapter 5: Sally Casswell (New Zealand), Isidore S. Obot (Nigeria).\\nChapter 6: Sally Casswell (New Zealand).\\nDavid Bramley (Switzerland) edited the report.\\nL’IV Com Sàrl (Switzerland) developed the graphic design and layout.\\nAdministrative support was provided by Divina Maramba.\\nWHO interns who contributed to the report include: Ioanna Antzoulatou, Kathryn Elliot,\\nTatiana Fomina, Anna Fruehauf, Eloise Harrison, Aceel Hawa, Preeti Khanal, Shaista Madad, Mariam Mujiri, Andres Rodriguez, Zsofia Szlamka.\\nFinally, WHO gratefully acknowledges the financial support')]"
      ]
     },
     "execution_count": 5,
     "metadata": {},
     "output_type": "execute_result"
    }
   ],
   "source": [
    "from langchain_text_splitters import CharacterTextSplitter\n",
    "text_spliter= CharacterTextSplitter(separator=\"\\n\\n\", chunk_size=100, chunk_overlap=10 )\n",
    "splitted_text=text_spliter.split_documents(docs)\n",
    "splitted_text"
   ]
  },
  {
   "cell_type": "code",
   "execution_count": null,
   "metadata": {},
   "outputs": [
    {
     "data": {
      "text/plain": [
       "2615"
      ]
     },
     "execution_count": 8,
     "metadata": {},
     "output_type": "execute_result"
    }
   ],
   "source": [
    "len(splitted_text[0].page_content) # As this will splitting on \"\"\\n\\n\"\" two page breaks\""
   ]
  },
  {
   "cell_type": "code",
   "execution_count": 10,
   "metadata": {},
   "outputs": [
    {
     "name": "stderr",
     "output_type": "stream",
     "text": [
      "Created a chunk of size 2615, which is longer than the specified 100\n"
     ]
    },
    {
     "data": {
      "text/plain": [
       "([Document(metadata={'source': 'Documents/alchohol.txt'}, page_content=\"ACKNOWLEDGEMENTS\\nThe report was produced by the Management of Substance Abuse Unit (MSB) in\\nthe Department of Mental Health and Substance Abuse (MSD) of the World Health Organization (WHO), Geneva, Switzerland. The report was developed within the framework\\nof WHO's activities on global monitoring of alcohol consumption, alcohol-related harm\\nand policy responses, and is linked to WHO’s work on the Global Information System on\\nAlcohol and Health (GISAH).\\nExecutive editors: Vladimir Poznyak and Dag Rekve.\\nWithin the WHO Secretariat, Svetlana Akselrod, Assistant Director-General, Noncommunicable Diseases and Mental Health, and Shekhar Saxena, Director, Department of Mental Health and Substance Abuse, provided vision, guidance, support and valuable\\ncontributions to this project.\\nThe WHO staff involved in development and production of this report were: Alexandra\\nFleischmann, Elise Gehring, Vladimir Poznyak, and Dag Rekve of the WHO MSD/MSB\\nunit at WHO headquarters in Geneva. The report benefited from technical inputs from\\nDzmitry Krupchanka of WHO MSD/MSB. Jan-Christopher Gumm provided a significant\\ncontribution to the production of the report in his capacity as a consultant. Gretchen\\nStevens, Colin Mathers, Jessica Ho, and Annet Mahanani from the Department of\\nInformation, Evidence and Research contributed to the estimates of alcohol-attributable\\ndisease burden and provided technical input at all stages of the report’s development.\\nMargie Peden and Tami Toroyan from the Department of Management of NCDs, Disability, Violence & Injury Prevention provided technical input to the report at different stages of\\nits development. Leanne Riley, Regina Guthold and Melanie Cowan from the Department of Prevention of Noncommunicable Diseases provided data from the WHO-supported\\nsurveys and technical input to the report. Kathryn O’Neill, Philippe Boucher, Zoe Brillantes, John Rawlinson, and Florence Rusciano from the Department of Information, Evidence\\nand Research were the technical counterparts from the Global Health Observatory for\\ncreating maps and for updating GISAH.\\nPreparation of this report is a collaborative effort of the WHO Department of Mental Health and Substance Abuse, Management of Substance Abuse, with the Centre for Addiction\\nand Mental Health (CAMH), Toronto, Canada. The contributions from Jürgen Rehm, Kevin Shield, Jakob Manthey, and Margaret Rylett (CAMH, Canada) as well as from Gerhard\\nGmel (Alcohol Treatment Center, Lausanne University Hospital, Switzerland), David Jernigan and Pamela Trangenstein (Johns Hopkins Bloomberg School of Public Health,\\nUSA), and Robin Room\"),\n",
       "  Document(metadata={'source': 'Documents/alchohol.txt'}, page_content='The collection of data in the framework of the WHO Global Survey on Alcohol and Health\\nand the development of this report were undertaken in collaboration with the six WHO\\nregional offices and WHO country offices. Key contributors to the report in the WHO\\nregional offices were:\\nWHO African Region:\\nSebastiana Nkomo, Nivo Ramanandraibe, and Steven Shongwe\\nWHO Region of the Americas:\\nMaristela Goldnadel Monteiro, Blake Andrea Smith, and Lalla Maiga\\nWHO Eastern Mediterranean Region:\\nKhalid Saeed\\nWHO European Region:\\nCarina Ferreira-Borges, Lars Møller, Nina Blinkenberg, Julie Brummer, and Lisa Scholin\\nWHO South-East Asia Region:\\nNazneen Anwar\\nWHO Western Pacific Region:\\nMartin Vandendyck, Xiangdong Wang and Maribel Villanueva.\\nFor their contributions to individual chapters and annexes we acknowledge the following:\\nExecutive summary: David Bramley and Vladimir Poznyak.\\nChapter 1: Robin Room, Kevin Shield.\\nChapter 2: Dag Rekve, Alexandra Fleischmann, Robin Room, Vladimir Poznyak.\\nChapter 3: Gerhard Gmel, Kevin Shield, Jürgen Rehm, Margaret Rylett, Aya Kinjo.\\nChapter 4: Kevin Shield, Jürgen Rehm, Gretchen Stevens.\\nChapter 5: David Jernigan and Pamela Trangenstein.\\nChapter 6: Robin Room, David Jernigan, Pamela Trangenstein, Dag Rekve, Vladimir Poznyak.\\nCountry profiles: Margaret Rylett and Alexandra Fleischmann.\\nAppendices i–iii: Margaret Rylett and Alexandra Fleischmann.\\nAppendix iv: Margaret Rylett and Alexandra Fleischmann.\\nThis report would not have been possible without contributions from the WHO national\\ncounterparts for implementation of the Global strategy to reduce the harmful use of alcohol\\nin WHO Member States who provided country-level data and other relevant information\\non alcohol consumption, alcohol-related harm and policy responses.\\nThe report benefited from the input provided by the following peer reviewers:\\nChapter 1: Charles Parry (South Africa).\\nChapter 2: Charles Parry (South Africa), Sally Casswell (New Zealand).\\nChapters 3–4: Isidore S. Obot (Nigeria).\\nChapter 5: Sally Casswell (New Zealand), Isidore S. Obot (Nigeria).\\nChapter 6: Sally Casswell (New Zealand).\\nDavid Bramley (Switzerland) edited the report.\\nL’IV Com Sàrl (Switzerland) developed the graphic design and layout.\\nAdministrative support was provided by Divina Maramba.\\nWHO interns who contributed to the report include: Ioanna Antzoulatou, Kathryn Elliot,\\nTatiana Fomina, Anna Fruehauf, Eloise Harrison, Aceel Hawa, Preeti Khanal, Shaista Madad, Mariam Mujiri, Andres Rodriguez, Zsofia Szlamka.\\nFinally, WHO gratefully acknowledges the financial support')],\n",
       " 2615)"
      ]
     },
     "execution_count": 10,
     "metadata": {},
     "output_type": "execute_result"
    }
   ],
   "source": [
    "## By Default it uses \"\"\\n\\n\"\" as separator\n",
    "from langchain_text_splitters import CharacterTextSplitter\n",
    "text_spliter= CharacterTextSplitter(chunk_size=100, chunk_overlap=10 )\n",
    "splitted_text=text_spliter.split_documents(docs)\n",
    "splitted_text,len(splitted_text[0].page_content)"
   ]
  },
  {
   "cell_type": "code",
   "execution_count": null,
   "metadata": {},
   "outputs": [
    {
     "name": "stderr",
     "output_type": "stream",
     "text": [
      "Created a chunk of size 625, which is longer than the specified 188\n",
      "Created a chunk of size 274, which is longer than the specified 188\n",
      "Created a chunk of size 222, which is longer than the specified 188\n",
      "Created a chunk of size 278, which is longer than the specified 188\n",
      "Created a chunk of size 617, which is longer than the specified 188\n",
      "Created a chunk of size 1204, which is longer than the specified 188\n",
      "Created a chunk of size 321, which is longer than the specified 188\n",
      "Created a chunk of size 369, which is longer than the specified 188\n"
     ]
    },
    {
     "data": {
      "text/plain": [
       "([Document(metadata={'source': 'Documents/alchohol.txt'}, page_content='ACKNOWLEDGEMENTS\\nThe'),\n",
       "  Document(metadata={'source': 'Documents/alchohol.txt'}, page_content='was produced by the Management of Substance Abuse Unit (MSB) in\\nthe Department of Mental Health and Substance Abuse (MSD) of the World Health Organization (WHO), Geneva, Switzerland. The'),\n",
       "  Document(metadata={'source': 'Documents/alchohol.txt'}, page_content=\"was developed within the framework\\nof WHO's activities on global monitoring of alcohol consumption, alcohol-related harm\\nand policy responses, and is linked to WHO’s work on the Global Information System on\\nAlcohol and Health (GISAH).\\nExecutive editors: Vladimir Poznyak and Dag Rekve.\\nWithin the WHO Secretariat, Svetlana Akselrod, Assistant Director-General, Noncommunicable Diseases and Mental Health, and Shekhar Saxena, Director, Department of Mental Health and Substance Abuse, provided vision, guidance, support and valuable\\ncontributions to this project.\\nThe WHO staff involved in development and production of this\"),\n",
       "  Document(metadata={'source': 'Documents/alchohol.txt'}, page_content='were: Alexandra\\nFleischmann, Elise Gehring, Vladimir Poznyak, and Dag Rekve of the WHO MSD/MSB\\nunit at WHO headquarters in Geneva. The'),\n",
       "  Document(metadata={'source': 'Documents/alchohol.txt'}, page_content='benefited from technical inputs from\\nDzmitry Krupchanka of WHO MSD/MSB. Jan-Christopher Gumm provided a significant\\ncontribution to the production of the'),\n",
       "  Document(metadata={'source': 'Documents/alchohol.txt'}, page_content='in his capacity as a consultant. Gretchen\\nStevens, Colin Mathers, Jessica Ho, and Annet Mahanani from the Department of\\nInformation, Evidence and Research contributed to the estimates of alcohol-attributable\\ndisease burden and provided technical input at all stages of the'),\n",
       "  Document(metadata={'source': 'Documents/alchohol.txt'}, page_content='’s development.\\nMargie Peden and Tami Toroyan from the Department of Management of NCDs, Disability, Violence & Injury Prevention provided technical input to the'),\n",
       "  Document(metadata={'source': 'Documents/alchohol.txt'}, page_content='at different stages of\\nits development. Leanne Riley, Regina Guthold and Melanie Cowan from the Department of Prevention of Noncommunicable Diseases provided data from the WHO-supported\\nsurveys and technical input to the'),\n",
       "  Document(metadata={'source': 'Documents/alchohol.txt'}, page_content='. Kathryn O’Neill, Philippe Boucher, Zoe Brillantes, John Rawlinson, and Florence Rusciano from the Department of Information, Evidence\\nand Research were the technical counterparts from the Global Health Observatory for\\ncreating maps and for updating GISAH.\\nPreparation of this'),\n",
       "  Document(metadata={'source': 'Documents/alchohol.txt'}, page_content='is a collaborative effort of the WHO Department of Mental Health and Substance Abuse, Management of Substance Abuse, with the Centre for Addiction\\nand Mental Health (CAMH), Toronto, Canada. The contributions from Jürgen Rehm, Kevin Shield, Jakob Manthey, and Margaret Rylett (CAMH, Canada) as well as from Gerhard\\nGmel (Alcohol Treatment Center, Lausanne University Hospital, Switzerland), David Jernigan and Pamela Trangenstein (Johns Hopkins Bloomberg School of Public Health,\\nUSA), and Robin Room\\n\\nThe collection of data in the framework of the WHO Global Survey on Alcohol and Health\\nand the development of this'),\n",
       "  Document(metadata={'source': 'Documents/alchohol.txt'}, page_content='were undertaken in collaboration with the six WHO\\nregional offices and WHO country offices. Key contributors to the'),\n",
       "  Document(metadata={'source': 'Documents/alchohol.txt'}, page_content='in the WHO\\nregional offices were:\\nWHO African Region:\\nSebastiana Nkomo, Nivo Ramanandraibe, and Steven Shongwe\\nWHO Region of the Americas:\\nMaristela Goldnadel Monteiro, Blake Andrea Smith, and Lalla Maiga\\nWHO Eastern Mediterranean Region:\\nKhalid Saeed\\nWHO European Region:\\nCarina Ferreira-Borges, Lars Møller, Nina Blinkenberg, Julie Brummer, and Lisa Scholin\\nWHO South-East Asia Region:\\nNazneen Anwar\\nWHO Western Pacific Region:\\nMartin Vandendyck, Xiangdong Wang and Maribel Villanueva.\\nFor their contributions to individual chapters and annexes we acknowledge the following:\\nExecutive summary: David Bramley and Vladimir Poznyak.\\nChapter 1: Robin Room, Kevin Shield.\\nChapter 2: Dag Rekve, Alexandra Fleischmann, Robin Room, Vladimir Poznyak.\\nChapter 3: Gerhard Gmel, Kevin Shield, Jürgen Rehm, Margaret Rylett, Aya Kinjo.\\nChapter 4: Kevin Shield, Jürgen Rehm, Gretchen Stevens.\\nChapter 5: David Jernigan and Pamela Trangenstein.\\nChapter 6: Robin Room, David Jernigan, Pamela Trangenstein, Dag Rekve, Vladimir Poznyak.\\nCountry profiles: Margaret Rylett and Alexandra Fleischmann.\\nAppendices i–iii: Margaret Rylett and Alexandra Fleischmann.\\nAppendix iv: Margaret Rylett and Alexandra Fleischmann.\\nThis'),\n",
       "  Document(metadata={'source': 'Documents/alchohol.txt'}, page_content='would not have been possible without contributions from the WHO national\\ncounterparts for implementation of the Global strategy to reduce the harmful use of alcohol\\nin WHO Member States who provided country-level data and other relevant information\\non alcohol consumption, alcohol-related harm and policy responses.\\nThe'),\n",
       "  Document(metadata={'source': 'Documents/alchohol.txt'}, page_content='benefited from the input provided by the following peer reviewers:\\nChapter 1: Charles Parry (South Africa).\\nChapter 2: Charles Parry (South Africa), Sally Casswell (New Zealand).\\nChapters 3–4: Isidore S. Obot (Nigeria).\\nChapter 5: Sally Casswell (New Zealand), Isidore S. Obot (Nigeria).\\nChapter 6: Sally Casswell (New Zealand).\\nDavid Bramley (Switzerland) edited the'),\n",
       "  Document(metadata={'source': 'Documents/alchohol.txt'}, page_content='.\\nL’IV Com Sàrl (Switzerland) developed the graphic design and layout.\\nAdministrative support was provided by Divina Maramba.\\nWHO interns who contributed to the'),\n",
       "  Document(metadata={'source': 'Documents/alchohol.txt'}, page_content='include: Ioanna Antzoulatou, Kathryn Elliot,\\nTatiana Fomina, Anna Fruehauf, Eloise Harrison, Aceel Hawa, Preeti Khanal, Shaista Madad, Mariam Mujiri, Andres Rodriguez, Zsofia Szlamka.\\nFinally, WHO gratefully acknowledges the financial support')],\n",
       " 20)"
      ]
     },
     "execution_count": 13,
     "metadata": {},
     "output_type": "execute_result"
    }
   ],
   "source": [
    "## Let's split this doc on specific word\n",
    "from langchain_text_splitters import CharacterTextSplitter\n",
    "from sympy import SeqPer\n",
    "text_spliter= CharacterTextSplitter(separator=\"report\",chunk_size=188, chunk_overlap=10 )\n",
    "splitted_text=text_spliter.split_documents(docs)\n",
    "splitted_text,len(splitted_text[0].page_content)\n",
    "# as we can see \"report\" word got removed during seperation"
   ]
  },
  {
   "cell_type": "code",
   "execution_count": 15,
   "metadata": {},
   "outputs": [
    {
     "name": "stderr",
     "output_type": "stream",
     "text": [
      "Created a chunk of size 164, which is longer than the specified 100\n",
      "Created a chunk of size 245, which is longer than the specified 100\n",
      "Created a chunk of size 175, which is longer than the specified 100\n",
      "Created a chunk of size 162, which is longer than the specified 100\n",
      "Created a chunk of size 176, which is longer than the specified 100\n",
      "Created a chunk of size 173, which is longer than the specified 100\n",
      "Created a chunk of size 166, which is longer than the specified 100\n",
      "Created a chunk of size 164, which is longer than the specified 100\n",
      "Created a chunk of size 138, which is longer than the specified 100\n"
     ]
    },
    {
     "data": {
      "text/plain": [
       "([Document(metadata={'source': 'Documents/alchohol.txt'}, page_content='ACKNOWLEDGEMENTS\\nThe report was produced by the Management of Substance Abuse Unit (MSB) in'),\n",
       "  Document(metadata={'source': 'Documents/alchohol.txt'}, page_content='the Department of Mental Health and Substance Abuse (MSD) of the World Health Organization (WHO), Geneva, Switzerland. The report was developed within the framework'),\n",
       "  Document(metadata={'source': 'Documents/alchohol.txt'}, page_content=\"of WHO's activities on global monitoring of alcohol consumption, alcohol-related harm\"),\n",
       "  Document(metadata={'source': 'Documents/alchohol.txt'}, page_content='and policy responses, and is linked to WHO’s work on the Global Information System on'),\n",
       "  Document(metadata={'source': 'Documents/alchohol.txt'}, page_content='Alcohol and Health (GISAH).\\nExecutive editors: Vladimir Poznyak and Dag Rekve.'),\n",
       "  Document(metadata={'source': 'Documents/alchohol.txt'}, page_content='Within the WHO Secretariat, Svetlana Akselrod, Assistant Director-General, Noncommunicable Diseases and Mental Health, and Shekhar Saxena, Director, Department of Mental Health and Substance Abuse, provided vision, guidance, support and valuable'),\n",
       "  Document(metadata={'source': 'Documents/alchohol.txt'}, page_content='contributions to this project.'),\n",
       "  Document(metadata={'source': 'Documents/alchohol.txt'}, page_content='The WHO staff involved in development and production of this report were: Alexandra'),\n",
       "  Document(metadata={'source': 'Documents/alchohol.txt'}, page_content='Fleischmann, Elise Gehring, Vladimir Poznyak, and Dag Rekve of the WHO MSD/MSB'),\n",
       "  Document(metadata={'source': 'Documents/alchohol.txt'}, page_content='unit at WHO headquarters in Geneva. The report benefited from technical inputs from'),\n",
       "  Document(metadata={'source': 'Documents/alchohol.txt'}, page_content='Dzmitry Krupchanka of WHO MSD/MSB. Jan-Christopher Gumm provided a significant'),\n",
       "  Document(metadata={'source': 'Documents/alchohol.txt'}, page_content='contribution to the production of the report in his capacity as a consultant. Gretchen'),\n",
       "  Document(metadata={'source': 'Documents/alchohol.txt'}, page_content='Stevens, Colin Mathers, Jessica Ho, and Annet Mahanani from the Department of'),\n",
       "  Document(metadata={'source': 'Documents/alchohol.txt'}, page_content='Information, Evidence and Research contributed to the estimates of alcohol-attributable'),\n",
       "  Document(metadata={'source': 'Documents/alchohol.txt'}, page_content='disease burden and provided technical input at all stages of the report’s development.'),\n",
       "  Document(metadata={'source': 'Documents/alchohol.txt'}, page_content='Margie Peden and Tami Toroyan from the Department of Management of NCDs, Disability, Violence & Injury Prevention provided technical input to the report at different stages of'),\n",
       "  Document(metadata={'source': 'Documents/alchohol.txt'}, page_content='its development. Leanne Riley, Regina Guthold and Melanie Cowan from the Department of Prevention of Noncommunicable Diseases provided data from the WHO-supported'),\n",
       "  Document(metadata={'source': 'Documents/alchohol.txt'}, page_content='surveys and technical input to the report. Kathryn O’Neill, Philippe Boucher, Zoe Brillantes, John Rawlinson, and Florence Rusciano from the Department of Information, Evidence'),\n",
       "  Document(metadata={'source': 'Documents/alchohol.txt'}, page_content='and Research were the technical counterparts from the Global Health Observatory for'),\n",
       "  Document(metadata={'source': 'Documents/alchohol.txt'}, page_content='creating maps and for updating GISAH.'),\n",
       "  Document(metadata={'source': 'Documents/alchohol.txt'}, page_content='Preparation of this report is a collaborative effort of the WHO Department of Mental Health and Substance Abuse, Management of Substance Abuse, with the Centre for Addiction'),\n",
       "  Document(metadata={'source': 'Documents/alchohol.txt'}, page_content='and Mental Health (CAMH), Toronto, Canada. The contributions from Jürgen Rehm, Kevin Shield, Jakob Manthey, and Margaret Rylett (CAMH, Canada) as well as from Gerhard'),\n",
       "  Document(metadata={'source': 'Documents/alchohol.txt'}, page_content='Gmel (Alcohol Treatment Center, Lausanne University Hospital, Switzerland), David Jernigan and Pamela Trangenstein (Johns Hopkins Bloomberg School of Public Health,'),\n",
       "  Document(metadata={'source': 'Documents/alchohol.txt'}, page_content='USA), and Robin Room'),\n",
       "  Document(metadata={'source': 'Documents/alchohol.txt'}, page_content='The collection of data in the framework of the WHO Global Survey on Alcohol and Health'),\n",
       "  Document(metadata={'source': 'Documents/alchohol.txt'}, page_content='and the development of this report were undertaken in collaboration with the six WHO'),\n",
       "  Document(metadata={'source': 'Documents/alchohol.txt'}, page_content='regional offices and WHO country offices. Key contributors to the report in the WHO'),\n",
       "  Document(metadata={'source': 'Documents/alchohol.txt'}, page_content='regional offices were:\\nWHO African Region:\\nSebastiana Nkomo, Nivo Ramanandraibe, and Steven Shongwe'),\n",
       "  Document(metadata={'source': 'Documents/alchohol.txt'}, page_content='WHO Region of the Americas:\\nMaristela Goldnadel Monteiro, Blake Andrea Smith, and Lalla Maiga'),\n",
       "  Document(metadata={'source': 'Documents/alchohol.txt'}, page_content='WHO Eastern Mediterranean Region:\\nKhalid Saeed\\nWHO European Region:'),\n",
       "  Document(metadata={'source': 'Documents/alchohol.txt'}, page_content='Carina Ferreira-Borges, Lars Møller, Nina Blinkenberg, Julie Brummer, and Lisa Scholin'),\n",
       "  Document(metadata={'source': 'Documents/alchohol.txt'}, page_content='WHO South-East Asia Region:\\nNazneen Anwar\\nWHO Western Pacific Region:'),\n",
       "  Document(metadata={'source': 'Documents/alchohol.txt'}, page_content='Martin Vandendyck, Xiangdong Wang and Maribel Villanueva.'),\n",
       "  Document(metadata={'source': 'Documents/alchohol.txt'}, page_content='For their contributions to individual chapters and annexes we acknowledge the following:'),\n",
       "  Document(metadata={'source': 'Documents/alchohol.txt'}, page_content='Executive summary: David Bramley and Vladimir Poznyak.\\nChapter 1: Robin Room, Kevin Shield.'),\n",
       "  Document(metadata={'source': 'Documents/alchohol.txt'}, page_content='Chapter 2: Dag Rekve, Alexandra Fleischmann, Robin Room, Vladimir Poznyak.'),\n",
       "  Document(metadata={'source': 'Documents/alchohol.txt'}, page_content='Chapter 3: Gerhard Gmel, Kevin Shield, Jürgen Rehm, Margaret Rylett, Aya Kinjo.'),\n",
       "  Document(metadata={'source': 'Documents/alchohol.txt'}, page_content='Chapter 4: Kevin Shield, Jürgen Rehm, Gretchen Stevens.'),\n",
       "  Document(metadata={'source': 'Documents/alchohol.txt'}, page_content='Chapter 5: David Jernigan and Pamela Trangenstein.'),\n",
       "  Document(metadata={'source': 'Documents/alchohol.txt'}, page_content='Chapter 6: Robin Room, David Jernigan, Pamela Trangenstein, Dag Rekve, Vladimir Poznyak.'),\n",
       "  Document(metadata={'source': 'Documents/alchohol.txt'}, page_content='Country profiles: Margaret Rylett and Alexandra Fleischmann.'),\n",
       "  Document(metadata={'source': 'Documents/alchohol.txt'}, page_content='Appendices i–iii: Margaret Rylett and Alexandra Fleischmann.'),\n",
       "  Document(metadata={'source': 'Documents/alchohol.txt'}, page_content='Appendix iv: Margaret Rylett and Alexandra Fleischmann.'),\n",
       "  Document(metadata={'source': 'Documents/alchohol.txt'}, page_content='This report would not have been possible without contributions from the WHO national'),\n",
       "  Document(metadata={'source': 'Documents/alchohol.txt'}, page_content='counterparts for implementation of the Global strategy to reduce the harmful use of alcohol'),\n",
       "  Document(metadata={'source': 'Documents/alchohol.txt'}, page_content='in WHO Member States who provided country-level data and other relevant information'),\n",
       "  Document(metadata={'source': 'Documents/alchohol.txt'}, page_content='on alcohol consumption, alcohol-related harm and policy responses.'),\n",
       "  Document(metadata={'source': 'Documents/alchohol.txt'}, page_content='The report benefited from the input provided by the following peer reviewers:'),\n",
       "  Document(metadata={'source': 'Documents/alchohol.txt'}, page_content='Chapter 1: Charles Parry (South Africa).'),\n",
       "  Document(metadata={'source': 'Documents/alchohol.txt'}, page_content='Chapter 2: Charles Parry (South Africa), Sally Casswell (New Zealand).'),\n",
       "  Document(metadata={'source': 'Documents/alchohol.txt'}, page_content='Chapters 3–4: Isidore S. Obot (Nigeria).'),\n",
       "  Document(metadata={'source': 'Documents/alchohol.txt'}, page_content='Chapter 5: Sally Casswell (New Zealand), Isidore S. Obot (Nigeria).'),\n",
       "  Document(metadata={'source': 'Documents/alchohol.txt'}, page_content='Chapter 6: Sally Casswell (New Zealand).\\nDavid Bramley (Switzerland) edited the report.'),\n",
       "  Document(metadata={'source': 'Documents/alchohol.txt'}, page_content='L’IV Com Sàrl (Switzerland) developed the graphic design and layout.'),\n",
       "  Document(metadata={'source': 'Documents/alchohol.txt'}, page_content='Administrative support was provided by Divina Maramba.'),\n",
       "  Document(metadata={'source': 'Documents/alchohol.txt'}, page_content='WHO interns who contributed to the report include: Ioanna Antzoulatou, Kathryn Elliot,'),\n",
       "  Document(metadata={'source': 'Documents/alchohol.txt'}, page_content='Tatiana Fomina, Anna Fruehauf, Eloise Harrison, Aceel Hawa, Preeti Khanal, Shaista Madad, Mariam Mujiri, Andres Rodriguez, Zsofia Szlamka.'),\n",
       "  Document(metadata={'source': 'Documents/alchohol.txt'}, page_content='Finally, WHO gratefully acknowledges the financial support')],\n",
       " 91)"
      ]
     },
     "execution_count": 15,
     "metadata": {},
     "output_type": "execute_result"
    }
   ],
   "source": [
    "## Let's split this doc on new line only\n",
    "from langchain_text_splitters import CharacterTextSplitter\n",
    "from sympy import SeqPer\n",
    "text_spliter= CharacterTextSplitter(separator=\"\\n\",chunk_size=100, chunk_overlap=10 )\n",
    "splitted_text=text_spliter.split_documents(docs)\n",
    "splitted_text,len(splitted_text[0].page_content)\n",
    "# as we can see \"report\" word got removed during seperation"
   ]
  },
  {
   "cell_type": "markdown",
   "metadata": {},
   "source": [
    "# <span style=\"background-color: Yellow; color: Red; padding: 8px;\">Recursive Character text splitter vs Character text_splitter</span>\n"
   ]
  },
  {
   "cell_type": "markdown",
   "metadata": {},
   "source": [
    "# Difference between CharacterTextSplitter and RecursiveCharacterTextSplitter\n",
    "\n",
    "The **CharacterTextSplitter** and **RecursiveCharacterTextSplitter** are both used to split large text into smaller chunks, but they differ in their approach and how they handle the text.\n",
    "\n",
    "## 1. CharacterTextSplitter\n",
    "- **Approach**: The **CharacterTextSplitter** splits text purely based on a fixed character length. It does not consider the structure or meaning of the text, and simply cuts the text into chunks of a predefined maximum number of characters.\n",
    "- **Use case**: This is useful when you need simple, fixed-length chunks, but it may result in splitting in the middle of sentences or words.\n",
    "- **Example**: If you set the chunk size to 100 characters, the text will be split every 100 characters, even if that means cutting off in the middle of a word.\n",
    "\n",
    "### Example:\n",
    "Text: *\"The quick brown fox jumps over the lazy dog.\"*\n",
    "\n",
    "If the chunk size is 10 characters, the output might be:\n",
    "- \"The quick \"\n",
    "- \"brown fox \"\n",
    "- \"jumps over\"\n",
    "- \" the lazy \"\n",
    "- \"dog.\"\n",
    "\n",
    "---\n",
    "\n",
    "## 2. RecursiveCharacterTextSplitter\n",
    "- **Approach**: The **RecursiveCharacterTextSplitter** uses a more sophisticated, recursive approach. It first attempts to split the text by a certain character length but then tries to refine the splits by considering the structure of the text (like sentence boundaries or paragraph breaks). This splitter is more context-aware and tries to avoid splitting in the middle of sentences or words.\n",
    "- **Use case**: This is useful when you want to preserve the integrity of the text, such as avoiding cuts in the middle of sentences or paragraphs.\n",
    "- **Example**: If the chunk size is set to 100 characters, the splitter will first try to break the text every 100 characters, but if the split happens in the middle of a sentence, it will adjust to make the cut at a more logical boundary (e.g., the end of a sentence).\n",
    "\n",
    "### Example:\n",
    "Text: *\"The quick brown fox jumps over the lazy dog. It is a nice day outside.\"*\n",
    "\n",
    "If the chunk size is set to 50 characters, the output might be:\n",
    "- \"The quick brown fox jumps over the lazy\"\n",
    "- \"dog. It is a nice day outside.\"\n",
    "\n",
    "In this case, the **RecursiveCharacterTextSplitter** avoids splitting in the middle of a sentence.\n",
    "\n",
    "---\n",
    "\n",
    "## Key Differences:\n",
    "- **CharacterTextSplitter**: Splits strictly by character count, which may result in unnatural breaks within words or sentences.\n",
    "- **RecursiveCharacterTextSplitter**: Splits text more intelligently, considering sentence or paragraph boundaries to preserve meaning and readability while still managing chunk sizes.\n",
    "\n",
    "In short, the **RecursiveCharacterTextSplitter** provides a more context-aware splitting method, while the **CharacterTextSplitter** is a simpler approach based purely on character count.\n"
   ]
  },
  {
   "cell_type": "code",
   "execution_count": null,
   "metadata": {},
   "outputs": [],
   "source": []
  }
 ],
 "metadata": {
  "kernelspec": {
   "display_name": "torch_env",
   "language": "python",
   "name": "python3"
  },
  "language_info": {
   "codemirror_mode": {
    "name": "ipython",
    "version": 3
   },
   "file_extension": ".py",
   "mimetype": "text/x-python",
   "name": "python",
   "nbconvert_exporter": "python",
   "pygments_lexer": "ipython3",
   "version": "3.10.15"
  }
 },
 "nbformat": 4,
 "nbformat_minor": 2
}
